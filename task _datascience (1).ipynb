{
 "cells": [
  {
   "cell_type": "code",
   "execution_count": 349,
   "id": "17149edd-062b-4a1f-9dd7-5adf896e736a",
   "metadata": {},
   "outputs": [],
   "source": [
    "import numpy as np\n",
    "import pandas as pd\n",
    "import matplotlib.pyplot as plt\n",
    "import seaborn as sns"
   ]
  },
  {
   "cell_type": "code",
   "execution_count": 350,
   "id": "d27f5dfb-95fd-472a-90fb-a351c368846b",
   "metadata": {},
   "outputs": [],
   "source": [
    "df=pd.read_csv('moviesdataset.csv', encoding='latin1')"
   ]
  },
  {
   "cell_type": "code",
   "execution_count": 351,
   "id": "c53d5767-2fec-4585-844c-eb4cc2a2b947",
   "metadata": {},
   "outputs": [
    {
     "data": {
      "text/html": [
       "<div>\n",
       "<style scoped>\n",
       "    .dataframe tbody tr th:only-of-type {\n",
       "        vertical-align: middle;\n",
       "    }\n",
       "\n",
       "    .dataframe tbody tr th {\n",
       "        vertical-align: top;\n",
       "    }\n",
       "\n",
       "    .dataframe thead th {\n",
       "        text-align: right;\n",
       "    }\n",
       "</style>\n",
       "<table border=\"1\" class=\"dataframe\">\n",
       "  <thead>\n",
       "    <tr style=\"text-align: right;\">\n",
       "      <th></th>\n",
       "      <th>Name</th>\n",
       "      <th>Year</th>\n",
       "      <th>Duration</th>\n",
       "      <th>Genre</th>\n",
       "      <th>Rating</th>\n",
       "      <th>Votes</th>\n",
       "      <th>Director</th>\n",
       "      <th>Actor 1</th>\n",
       "      <th>Actor 2</th>\n",
       "      <th>Actor 3</th>\n",
       "    </tr>\n",
       "  </thead>\n",
       "  <tbody>\n",
       "    <tr>\n",
       "      <th>0</th>\n",
       "      <td></td>\n",
       "      <td>NaN</td>\n",
       "      <td>NaN</td>\n",
       "      <td>Drama</td>\n",
       "      <td>NaN</td>\n",
       "      <td>NaN</td>\n",
       "      <td>J.S. Randhawa</td>\n",
       "      <td>Manmauji</td>\n",
       "      <td>Birbal</td>\n",
       "      <td>Rajendra Bhatia</td>\n",
       "    </tr>\n",
       "    <tr>\n",
       "      <th>1</th>\n",
       "      <td>#Gadhvi (He thought he was Gandhi)</td>\n",
       "      <td>-2019.0</td>\n",
       "      <td>109 min</td>\n",
       "      <td>Drama</td>\n",
       "      <td>7.0</td>\n",
       "      <td>8</td>\n",
       "      <td>Gaurav Bakshi</td>\n",
       "      <td>Rasika Dugal</td>\n",
       "      <td>Vivek Ghamande</td>\n",
       "      <td>Arvind Jangid</td>\n",
       "    </tr>\n",
       "    <tr>\n",
       "      <th>2</th>\n",
       "      <td>#Homecoming</td>\n",
       "      <td>-2021.0</td>\n",
       "      <td>90 min</td>\n",
       "      <td>Drama, Musical</td>\n",
       "      <td>NaN</td>\n",
       "      <td>NaN</td>\n",
       "      <td>Soumyajit Majumdar</td>\n",
       "      <td>Sayani Gupta</td>\n",
       "      <td>Plabita Borthakur</td>\n",
       "      <td>Roy Angana</td>\n",
       "    </tr>\n",
       "    <tr>\n",
       "      <th>3</th>\n",
       "      <td>#Yaaram</td>\n",
       "      <td>-2019.0</td>\n",
       "      <td>110 min</td>\n",
       "      <td>Comedy, Romance</td>\n",
       "      <td>4.4</td>\n",
       "      <td>35</td>\n",
       "      <td>Ovais Khan</td>\n",
       "      <td>Prateik</td>\n",
       "      <td>Ishita Raj</td>\n",
       "      <td>Siddhant Kapoor</td>\n",
       "    </tr>\n",
       "    <tr>\n",
       "      <th>4</th>\n",
       "      <td>...And Once Again</td>\n",
       "      <td>-2010.0</td>\n",
       "      <td>105 min</td>\n",
       "      <td>Drama</td>\n",
       "      <td>NaN</td>\n",
       "      <td>NaN</td>\n",
       "      <td>Amol Palekar</td>\n",
       "      <td>Rajat Kapoor</td>\n",
       "      <td>Rituparna Sengupta</td>\n",
       "      <td>Antara Mali</td>\n",
       "    </tr>\n",
       "  </tbody>\n",
       "</table>\n",
       "</div>"
      ],
      "text/plain": [
       "                                 Name    Year Duration            Genre  \\\n",
       "0                                         NaN      NaN            Drama   \n",
       "1  #Gadhvi (He thought he was Gandhi) -2019.0  109 min            Drama   \n",
       "2                         #Homecoming -2021.0   90 min   Drama, Musical   \n",
       "3                             #Yaaram -2019.0  110 min  Comedy, Romance   \n",
       "4                   ...And Once Again -2010.0  105 min            Drama   \n",
       "\n",
       "   Rating Votes            Director       Actor 1             Actor 2  \\\n",
       "0     NaN   NaN       J.S. Randhawa      Manmauji              Birbal   \n",
       "1     7.0     8       Gaurav Bakshi  Rasika Dugal      Vivek Ghamande   \n",
       "2     NaN   NaN  Soumyajit Majumdar  Sayani Gupta   Plabita Borthakur   \n",
       "3     4.4    35          Ovais Khan       Prateik          Ishita Raj   \n",
       "4     NaN   NaN        Amol Palekar  Rajat Kapoor  Rituparna Sengupta   \n",
       "\n",
       "           Actor 3  \n",
       "0  Rajendra Bhatia  \n",
       "1    Arvind Jangid  \n",
       "2       Roy Angana  \n",
       "3  Siddhant Kapoor  \n",
       "4      Antara Mali  "
      ]
     },
     "execution_count": 351,
     "metadata": {},
     "output_type": "execute_result"
    }
   ],
   "source": [
    "df.head()"
   ]
  },
  {
   "cell_type": "code",
   "execution_count": 352,
   "id": "a2020f78-1de6-4a94-be42-b9e93928ad12",
   "metadata": {},
   "outputs": [
    {
     "name": "stdout",
     "output_type": "stream",
     "text": [
      "<class 'pandas.core.frame.DataFrame'>\n",
      "RangeIndex: 15509 entries, 0 to 15508\n",
      "Data columns (total 10 columns):\n",
      " #   Column    Non-Null Count  Dtype  \n",
      "---  ------    --------------  -----  \n",
      " 0   Name      15509 non-null  object \n",
      " 1   Year      14981 non-null  float64\n",
      " 2   Duration  7240 non-null   object \n",
      " 3   Genre     13632 non-null  object \n",
      " 4   Rating    7919 non-null   float64\n",
      " 5   Votes     7920 non-null   object \n",
      " 6   Director  14984 non-null  object \n",
      " 7   Actor 1   13892 non-null  object \n",
      " 8   Actor 2   13125 non-null  object \n",
      " 9   Actor 3   12365 non-null  object \n",
      "dtypes: float64(2), object(8)\n",
      "memory usage: 1.2+ MB\n"
     ]
    }
   ],
   "source": [
    "df.info()"
   ]
  },
  {
   "cell_type": "code",
   "execution_count": 353,
   "id": "641b28b5-6cdd-4a96-952e-2778b592dc0c",
   "metadata": {},
   "outputs": [],
   "source": [
    "df[\"Year\"] = df[\"Year\"].abs()"
   ]
  },
  {
   "cell_type": "code",
   "execution_count": 354,
   "id": "a2221ecb-f25c-496b-a52e-063561cb7588",
   "metadata": {},
   "outputs": [
    {
     "name": "stdout",
     "output_type": "stream",
     "text": [
      "8269\n",
      "[<class 'float'> <class 'str'>]\n"
     ]
    }
   ],
   "source": [
    "print(df[\"Duration\"].isna().sum())  \n",
    "print(df[\"Duration\"].apply(type).unique())  "
   ]
  },
  {
   "cell_type": "code",
   "execution_count": 355,
   "id": "89c7f8f1-2154-443f-bdbd-939aab22fc1a",
   "metadata": {},
   "outputs": [],
   "source": [
    "\n",
    "df[\"Duration\"] = df[\"Duration\"].astype(str).str.extract(r'(\\d+)').astype(float)"
   ]
  },
  {
   "cell_type": "code",
   "execution_count": 356,
   "id": "f3af9739-ca8c-48c3-8e77-47161f6384cb",
   "metadata": {},
   "outputs": [
    {
     "name": "stdout",
     "output_type": "stream",
     "text": [
      "Index(['Name', 'Year', 'Duration', 'Genre', 'Rating', 'Votes', 'Director',\n",
      "       'Actor 1', 'Actor 2', 'Actor 3'],\n",
      "      dtype='object')\n",
      "                                 Name    Year  Duration            Genre  \\\n",
      "0                                         NaN       NaN            Drama   \n",
      "1  #Gadhvi (He thought he was Gandhi)  2019.0     109.0            Drama   \n",
      "2                         #Homecoming  2021.0      90.0   Drama, Musical   \n",
      "3                             #Yaaram  2019.0     110.0  Comedy, Romance   \n",
      "4                   ...And Once Again  2010.0     105.0            Drama   \n",
      "\n",
      "   Rating Votes            Director       Actor 1             Actor 2  \\\n",
      "0     NaN   NaN       J.S. Randhawa      Manmauji              Birbal   \n",
      "1     7.0     8       Gaurav Bakshi  Rasika Dugal      Vivek Ghamande   \n",
      "2     NaN   NaN  Soumyajit Majumdar  Sayani Gupta   Plabita Borthakur   \n",
      "3     4.4    35          Ovais Khan       Prateik          Ishita Raj   \n",
      "4     NaN   NaN        Amol Palekar  Rajat Kapoor  Rituparna Sengupta   \n",
      "\n",
      "           Actor 3  \n",
      "0  Rajendra Bhatia  \n",
      "1    Arvind Jangid  \n",
      "2       Roy Angana  \n",
      "3  Siddhant Kapoor  \n",
      "4      Antara Mali  \n"
     ]
    }
   ],
   "source": [
    "print(df.columns)  \n",
    "print(df.head())  "
   ]
  },
  {
   "cell_type": "code",
   "execution_count": 357,
   "id": "f21ed04c-6f28-4022-9faa-c3989fc717f6",
   "metadata": {},
   "outputs": [],
   "source": [
    "df[\"Rating\"] = df[\"Rating\"].fillna(df[\"Rating\"].median())"
   ]
  },
  {
   "cell_type": "code",
   "execution_count": 358,
   "id": "d1046ac6-f70c-47d9-adc2-3ce1eb0306fc",
   "metadata": {},
   "outputs": [],
   "source": [
    "df[\"Genre\"] = df[\"Genre\"].str.split(\",\").str[0]"
   ]
  },
  {
   "cell_type": "code",
   "execution_count": 359,
   "id": "f58608c9-500c-4c7c-bec4-ec42abd924f3",
   "metadata": {},
   "outputs": [
    {
     "data": {
      "text/html": [
       "<div>\n",
       "<style scoped>\n",
       "    .dataframe tbody tr th:only-of-type {\n",
       "        vertical-align: middle;\n",
       "    }\n",
       "\n",
       "    .dataframe tbody tr th {\n",
       "        vertical-align: top;\n",
       "    }\n",
       "\n",
       "    .dataframe thead th {\n",
       "        text-align: right;\n",
       "    }\n",
       "</style>\n",
       "<table border=\"1\" class=\"dataframe\">\n",
       "  <thead>\n",
       "    <tr style=\"text-align: right;\">\n",
       "      <th></th>\n",
       "      <th>Name</th>\n",
       "      <th>Year</th>\n",
       "      <th>Duration</th>\n",
       "      <th>Genre</th>\n",
       "      <th>Rating</th>\n",
       "      <th>Votes</th>\n",
       "      <th>Director</th>\n",
       "      <th>Actor 1</th>\n",
       "      <th>Actor 2</th>\n",
       "      <th>Actor 3</th>\n",
       "    </tr>\n",
       "  </thead>\n",
       "  <tbody>\n",
       "    <tr>\n",
       "      <th>0</th>\n",
       "      <td></td>\n",
       "      <td>NaN</td>\n",
       "      <td>NaN</td>\n",
       "      <td>Drama</td>\n",
       "      <td>6.0</td>\n",
       "      <td>NaN</td>\n",
       "      <td>J.S. Randhawa</td>\n",
       "      <td>Manmauji</td>\n",
       "      <td>Birbal</td>\n",
       "      <td>Rajendra Bhatia</td>\n",
       "    </tr>\n",
       "    <tr>\n",
       "      <th>1</th>\n",
       "      <td>#Gadhvi (He thought he was Gandhi)</td>\n",
       "      <td>2019.0</td>\n",
       "      <td>109.0</td>\n",
       "      <td>Drama</td>\n",
       "      <td>7.0</td>\n",
       "      <td>8</td>\n",
       "      <td>Gaurav Bakshi</td>\n",
       "      <td>Rasika Dugal</td>\n",
       "      <td>Vivek Ghamande</td>\n",
       "      <td>Arvind Jangid</td>\n",
       "    </tr>\n",
       "    <tr>\n",
       "      <th>2</th>\n",
       "      <td>#Homecoming</td>\n",
       "      <td>2021.0</td>\n",
       "      <td>90.0</td>\n",
       "      <td>Drama</td>\n",
       "      <td>6.0</td>\n",
       "      <td>NaN</td>\n",
       "      <td>Soumyajit Majumdar</td>\n",
       "      <td>Sayani Gupta</td>\n",
       "      <td>Plabita Borthakur</td>\n",
       "      <td>Roy Angana</td>\n",
       "    </tr>\n",
       "    <tr>\n",
       "      <th>3</th>\n",
       "      <td>#Yaaram</td>\n",
       "      <td>2019.0</td>\n",
       "      <td>110.0</td>\n",
       "      <td>Comedy</td>\n",
       "      <td>4.4</td>\n",
       "      <td>35</td>\n",
       "      <td>Ovais Khan</td>\n",
       "      <td>Prateik</td>\n",
       "      <td>Ishita Raj</td>\n",
       "      <td>Siddhant Kapoor</td>\n",
       "    </tr>\n",
       "    <tr>\n",
       "      <th>4</th>\n",
       "      <td>...And Once Again</td>\n",
       "      <td>2010.0</td>\n",
       "      <td>105.0</td>\n",
       "      <td>Drama</td>\n",
       "      <td>6.0</td>\n",
       "      <td>NaN</td>\n",
       "      <td>Amol Palekar</td>\n",
       "      <td>Rajat Kapoor</td>\n",
       "      <td>Rituparna Sengupta</td>\n",
       "      <td>Antara Mali</td>\n",
       "    </tr>\n",
       "  </tbody>\n",
       "</table>\n",
       "</div>"
      ],
      "text/plain": [
       "                                 Name    Year  Duration   Genre  Rating Votes  \\\n",
       "0                                         NaN       NaN   Drama     6.0   NaN   \n",
       "1  #Gadhvi (He thought he was Gandhi)  2019.0     109.0   Drama     7.0     8   \n",
       "2                         #Homecoming  2021.0      90.0   Drama     6.0   NaN   \n",
       "3                             #Yaaram  2019.0     110.0  Comedy     4.4    35   \n",
       "4                   ...And Once Again  2010.0     105.0   Drama     6.0   NaN   \n",
       "\n",
       "             Director       Actor 1             Actor 2          Actor 3  \n",
       "0       J.S. Randhawa      Manmauji              Birbal  Rajendra Bhatia  \n",
       "1       Gaurav Bakshi  Rasika Dugal      Vivek Ghamande    Arvind Jangid  \n",
       "2  Soumyajit Majumdar  Sayani Gupta   Plabita Borthakur       Roy Angana  \n",
       "3          Ovais Khan       Prateik          Ishita Raj  Siddhant Kapoor  \n",
       "4        Amol Palekar  Rajat Kapoor  Rituparna Sengupta      Antara Mali  "
      ]
     },
     "execution_count": 359,
     "metadata": {},
     "output_type": "execute_result"
    }
   ],
   "source": [
    "df.head()"
   ]
  },
  {
   "cell_type": "code",
   "execution_count": 360,
   "id": "5603b38f-146e-4884-af6c-96f52b091792",
   "metadata": {},
   "outputs": [],
   "source": [
    "df['Name'] = df['Name'].replace('', 'RamSiya')"
   ]
  },
  {
   "cell_type": "code",
   "execution_count": 361,
   "id": "48a0b3ab-2f78-462c-84ce-079f0231d361",
   "metadata": {},
   "outputs": [],
   "source": [
    "df['Year'] = df['Year'].fillna(df['Year'].median())"
   ]
  },
  {
   "cell_type": "code",
   "execution_count": 362,
   "id": "bf2e949f-c58b-4e4f-a23a-4ae6448c8cf6",
   "metadata": {},
   "outputs": [],
   "source": [
    "df['Duration'] = df['Duration'].fillna(df['Duration'].median())"
   ]
  },
  {
   "cell_type": "code",
   "execution_count": 363,
   "id": "10edc834-fe3a-4d11-8832-6655ad893fc2",
   "metadata": {},
   "outputs": [],
   "source": [
    "df['Votes'] = df['Votes'].fillna(0)"
   ]
  },
  {
   "cell_type": "code",
   "execution_count": 364,
   "id": "44b10668-1de6-4048-bdf9-dc71dac30c22",
   "metadata": {},
   "outputs": [],
   "source": [
    "df['Director'] = df['Director'].fillna('K.Usha ')\n",
    "df['Actor 1'] = df['Actor 1'].fillna('Kishor Kumar')\n",
    "df['Actor 2'] = df['Actor 2'].fillna('Sayra Banu')\n",
    "df['Actor 3'] = df['Actor 3'].fillna('Yash.S')"
   ]
  },
  {
   "cell_type": "code",
   "execution_count": 365,
   "id": "620cb350-384a-42dd-b51e-4674c322303b",
   "metadata": {},
   "outputs": [],
   "source": [
    "df['Year'] = df['Year'].astype(int)\n"
   ]
  },
  {
   "cell_type": "code",
   "execution_count": 366,
   "id": "60fa8615-58d4-4924-a8db-9661ce75dd3b",
   "metadata": {},
   "outputs": [
    {
     "name": "stdout",
     "output_type": "stream",
     "text": [
      "Cleaned Data:\n"
     ]
    }
   ],
   "source": [
    "print(\"Cleaned Data:\")"
   ]
  },
  {
   "cell_type": "code",
   "execution_count": 367,
   "id": "a04c78bc-ba1c-43f2-bc32-df4bf4504f16",
   "metadata": {},
   "outputs": [
    {
     "name": "stdout",
     "output_type": "stream",
     "text": [
      "                                     Name  Year  Duration   Genre  Rating  \\\n",
      "0                                          1991     131.0   Drama     6.0   \n",
      "1      #Gadhvi (He thought he was Gandhi)  2019     109.0   Drama     7.0   \n",
      "2                             #Homecoming  2021      90.0   Drama     6.0   \n",
      "3                                 #Yaaram  2019     110.0  Comedy     4.4   \n",
      "4                       ...And Once Again  2010     105.0   Drama     6.0   \n",
      "...                                   ...   ...       ...     ...     ...   \n",
      "15504                 Zulm Ko Jala Doonga  1988     131.0  Action     4.6   \n",
      "15505                               Zulmi  1999     129.0  Action     4.5   \n",
      "15506                           Zulmi Raj  2005     131.0  Action     6.0   \n",
      "15507                       Zulmi Shikari  1988     131.0  Action     6.0   \n",
      "15508                        Zulm-O-Sitam  1998     130.0  Action     6.2   \n",
      "\n",
      "      Votes            Director           Actor 1             Actor 2  \\\n",
      "0         0       J.S. Randhawa          Manmauji              Birbal   \n",
      "1         8       Gaurav Bakshi      Rasika Dugal      Vivek Ghamande   \n",
      "2         0  Soumyajit Majumdar      Sayani Gupta   Plabita Borthakur   \n",
      "3        35          Ovais Khan           Prateik          Ishita Raj   \n",
      "4         0        Amol Palekar      Rajat Kapoor  Rituparna Sengupta   \n",
      "...     ...                 ...               ...                 ...   \n",
      "15504    11       Mahendra Shah  Naseeruddin Shah       Sumeet Saigal   \n",
      "15505   655          Kuku Kohli      Akshay Kumar      Twinkle Khanna   \n",
      "15506     0          Kiran Thej   Sangeeta Tiwari          Sayra Banu   \n",
      "15507     0             K.Usha       Kishor Kumar          Sayra Banu   \n",
      "15508    20        K.C. Bokadia        Dharmendra          Jaya Prada   \n",
      "\n",
      "               Actor 3  \n",
      "0      Rajendra Bhatia  \n",
      "1        Arvind Jangid  \n",
      "2           Roy Angana  \n",
      "3      Siddhant Kapoor  \n",
      "4          Antara Mali  \n",
      "...                ...  \n",
      "15504    Suparna Anand  \n",
      "15505      Aruna Irani  \n",
      "15506           Yash.S  \n",
      "15507           Yash.S  \n",
      "15508      Arjun Sarja  \n",
      "\n",
      "[15509 rows x 10 columns]\n"
     ]
    }
   ],
   "source": [
    "print(df)"
   ]
  },
  {
   "cell_type": "code",
   "execution_count": 368,
   "id": "d7013a33-fecb-47b3-aad8-2ee052263b5d",
   "metadata": {},
   "outputs": [
    {
     "data": {
      "text/html": [
       "<div>\n",
       "<style scoped>\n",
       "    .dataframe tbody tr th:only-of-type {\n",
       "        vertical-align: middle;\n",
       "    }\n",
       "\n",
       "    .dataframe tbody tr th {\n",
       "        vertical-align: top;\n",
       "    }\n",
       "\n",
       "    .dataframe thead th {\n",
       "        text-align: right;\n",
       "    }\n",
       "</style>\n",
       "<table border=\"1\" class=\"dataframe\">\n",
       "  <thead>\n",
       "    <tr style=\"text-align: right;\">\n",
       "      <th></th>\n",
       "      <th>Name</th>\n",
       "      <th>Year</th>\n",
       "      <th>Duration</th>\n",
       "      <th>Genre</th>\n",
       "      <th>Rating</th>\n",
       "      <th>Votes</th>\n",
       "      <th>Director</th>\n",
       "      <th>Actor 1</th>\n",
       "      <th>Actor 2</th>\n",
       "      <th>Actor 3</th>\n",
       "    </tr>\n",
       "  </thead>\n",
       "  <tbody>\n",
       "    <tr>\n",
       "      <th>0</th>\n",
       "      <td></td>\n",
       "      <td>1991</td>\n",
       "      <td>131.0</td>\n",
       "      <td>Drama</td>\n",
       "      <td>6.0</td>\n",
       "      <td>0</td>\n",
       "      <td>J.S. Randhawa</td>\n",
       "      <td>Manmauji</td>\n",
       "      <td>Birbal</td>\n",
       "      <td>Rajendra Bhatia</td>\n",
       "    </tr>\n",
       "    <tr>\n",
       "      <th>1</th>\n",
       "      <td>#Gadhvi (He thought he was Gandhi)</td>\n",
       "      <td>2019</td>\n",
       "      <td>109.0</td>\n",
       "      <td>Drama</td>\n",
       "      <td>7.0</td>\n",
       "      <td>8</td>\n",
       "      <td>Gaurav Bakshi</td>\n",
       "      <td>Rasika Dugal</td>\n",
       "      <td>Vivek Ghamande</td>\n",
       "      <td>Arvind Jangid</td>\n",
       "    </tr>\n",
       "    <tr>\n",
       "      <th>2</th>\n",
       "      <td>#Homecoming</td>\n",
       "      <td>2021</td>\n",
       "      <td>90.0</td>\n",
       "      <td>Drama</td>\n",
       "      <td>6.0</td>\n",
       "      <td>0</td>\n",
       "      <td>Soumyajit Majumdar</td>\n",
       "      <td>Sayani Gupta</td>\n",
       "      <td>Plabita Borthakur</td>\n",
       "      <td>Roy Angana</td>\n",
       "    </tr>\n",
       "    <tr>\n",
       "      <th>3</th>\n",
       "      <td>#Yaaram</td>\n",
       "      <td>2019</td>\n",
       "      <td>110.0</td>\n",
       "      <td>Comedy</td>\n",
       "      <td>4.4</td>\n",
       "      <td>35</td>\n",
       "      <td>Ovais Khan</td>\n",
       "      <td>Prateik</td>\n",
       "      <td>Ishita Raj</td>\n",
       "      <td>Siddhant Kapoor</td>\n",
       "    </tr>\n",
       "    <tr>\n",
       "      <th>4</th>\n",
       "      <td>...And Once Again</td>\n",
       "      <td>2010</td>\n",
       "      <td>105.0</td>\n",
       "      <td>Drama</td>\n",
       "      <td>6.0</td>\n",
       "      <td>0</td>\n",
       "      <td>Amol Palekar</td>\n",
       "      <td>Rajat Kapoor</td>\n",
       "      <td>Rituparna Sengupta</td>\n",
       "      <td>Antara Mali</td>\n",
       "    </tr>\n",
       "  </tbody>\n",
       "</table>\n",
       "</div>"
      ],
      "text/plain": [
       "                                 Name  Year  Duration   Genre  Rating Votes  \\\n",
       "0                                      1991     131.0   Drama     6.0     0   \n",
       "1  #Gadhvi (He thought he was Gandhi)  2019     109.0   Drama     7.0     8   \n",
       "2                         #Homecoming  2021      90.0   Drama     6.0     0   \n",
       "3                             #Yaaram  2019     110.0  Comedy     4.4    35   \n",
       "4                   ...And Once Again  2010     105.0   Drama     6.0     0   \n",
       "\n",
       "             Director       Actor 1             Actor 2          Actor 3  \n",
       "0       J.S. Randhawa      Manmauji              Birbal  Rajendra Bhatia  \n",
       "1       Gaurav Bakshi  Rasika Dugal      Vivek Ghamande    Arvind Jangid  \n",
       "2  Soumyajit Majumdar  Sayani Gupta   Plabita Borthakur       Roy Angana  \n",
       "3          Ovais Khan       Prateik          Ishita Raj  Siddhant Kapoor  \n",
       "4        Amol Palekar  Rajat Kapoor  Rituparna Sengupta      Antara Mali  "
      ]
     },
     "execution_count": 368,
     "metadata": {},
     "output_type": "execute_result"
    }
   ],
   "source": [
    "df.head()\n"
   ]
  },
  {
   "cell_type": "code",
   "execution_count": 369,
   "id": "f4dcfd03-5f7f-453a-8363-969892548c9b",
   "metadata": {},
   "outputs": [
    {
     "data": {
      "text/html": [
       "<div>\n",
       "<style scoped>\n",
       "    .dataframe tbody tr th:only-of-type {\n",
       "        vertical-align: middle;\n",
       "    }\n",
       "\n",
       "    .dataframe tbody tr th {\n",
       "        vertical-align: top;\n",
       "    }\n",
       "\n",
       "    .dataframe thead th {\n",
       "        text-align: right;\n",
       "    }\n",
       "</style>\n",
       "<table border=\"1\" class=\"dataframe\">\n",
       "  <thead>\n",
       "    <tr style=\"text-align: right;\">\n",
       "      <th></th>\n",
       "      <th>Name</th>\n",
       "      <th>Year</th>\n",
       "      <th>Duration</th>\n",
       "      <th>Genre</th>\n",
       "      <th>Rating</th>\n",
       "      <th>Votes</th>\n",
       "      <th>Director</th>\n",
       "      <th>Actor 1</th>\n",
       "      <th>Actor 2</th>\n",
       "      <th>Actor 3</th>\n",
       "    </tr>\n",
       "  </thead>\n",
       "  <tbody>\n",
       "    <tr>\n",
       "      <th>0</th>\n",
       "      <td></td>\n",
       "      <td>1991</td>\n",
       "      <td>131.0</td>\n",
       "      <td>Drama</td>\n",
       "      <td>6.0</td>\n",
       "      <td>0</td>\n",
       "      <td>J.S. Randhawa</td>\n",
       "      <td>Manmauji</td>\n",
       "      <td>Birbal</td>\n",
       "      <td>Rajendra Bhatia</td>\n",
       "    </tr>\n",
       "    <tr>\n",
       "      <th>1</th>\n",
       "      <td>#Gadhvi (He thought he was Gandhi)</td>\n",
       "      <td>2019</td>\n",
       "      <td>109.0</td>\n",
       "      <td>Drama</td>\n",
       "      <td>7.0</td>\n",
       "      <td>8</td>\n",
       "      <td>Gaurav Bakshi</td>\n",
       "      <td>Rasika Dugal</td>\n",
       "      <td>Vivek Ghamande</td>\n",
       "      <td>Arvind Jangid</td>\n",
       "    </tr>\n",
       "    <tr>\n",
       "      <th>2</th>\n",
       "      <td>#Homecoming</td>\n",
       "      <td>2021</td>\n",
       "      <td>90.0</td>\n",
       "      <td>Drama</td>\n",
       "      <td>6.0</td>\n",
       "      <td>0</td>\n",
       "      <td>Soumyajit Majumdar</td>\n",
       "      <td>Sayani Gupta</td>\n",
       "      <td>Plabita Borthakur</td>\n",
       "      <td>Roy Angana</td>\n",
       "    </tr>\n",
       "    <tr>\n",
       "      <th>3</th>\n",
       "      <td>#Yaaram</td>\n",
       "      <td>2019</td>\n",
       "      <td>110.0</td>\n",
       "      <td>Comedy</td>\n",
       "      <td>4.4</td>\n",
       "      <td>35</td>\n",
       "      <td>Ovais Khan</td>\n",
       "      <td>Prateik</td>\n",
       "      <td>Ishita Raj</td>\n",
       "      <td>Siddhant Kapoor</td>\n",
       "    </tr>\n",
       "    <tr>\n",
       "      <th>4</th>\n",
       "      <td>...And Once Again</td>\n",
       "      <td>2010</td>\n",
       "      <td>105.0</td>\n",
       "      <td>Drama</td>\n",
       "      <td>6.0</td>\n",
       "      <td>0</td>\n",
       "      <td>Amol Palekar</td>\n",
       "      <td>Rajat Kapoor</td>\n",
       "      <td>Rituparna Sengupta</td>\n",
       "      <td>Antara Mali</td>\n",
       "    </tr>\n",
       "  </tbody>\n",
       "</table>\n",
       "</div>"
      ],
      "text/plain": [
       "                                 Name  Year  Duration   Genre  Rating Votes  \\\n",
       "0                                      1991     131.0   Drama     6.0     0   \n",
       "1  #Gadhvi (He thought he was Gandhi)  2019     109.0   Drama     7.0     8   \n",
       "2                         #Homecoming  2021      90.0   Drama     6.0     0   \n",
       "3                             #Yaaram  2019     110.0  Comedy     4.4    35   \n",
       "4                   ...And Once Again  2010     105.0   Drama     6.0     0   \n",
       "\n",
       "             Director       Actor 1             Actor 2          Actor 3  \n",
       "0       J.S. Randhawa      Manmauji              Birbal  Rajendra Bhatia  \n",
       "1       Gaurav Bakshi  Rasika Dugal      Vivek Ghamande    Arvind Jangid  \n",
       "2  Soumyajit Majumdar  Sayani Gupta   Plabita Borthakur       Roy Angana  \n",
       "3          Ovais Khan       Prateik          Ishita Raj  Siddhant Kapoor  \n",
       "4        Amol Palekar  Rajat Kapoor  Rituparna Sengupta      Antara Mali  "
      ]
     },
     "execution_count": 369,
     "metadata": {},
     "output_type": "execute_result"
    }
   ],
   "source": [
    "df.head()"
   ]
  },
  {
   "cell_type": "code",
   "execution_count": 370,
   "id": "ba8990cb-fa65-442f-8db4-0bc76f0b921c",
   "metadata": {},
   "outputs": [],
   "source": [
    "\n",
    "df['Name'] = df['Name'].str.strip().replace(r'^\\s*$', 'RamSiya', regex=True)"
   ]
  },
  {
   "cell_type": "code",
   "execution_count": 371,
   "id": "9fcdb259-bb95-4e98-8005-453bc06898fe",
   "metadata": {},
   "outputs": [
    {
     "data": {
      "text/html": [
       "<div>\n",
       "<style scoped>\n",
       "    .dataframe tbody tr th:only-of-type {\n",
       "        vertical-align: middle;\n",
       "    }\n",
       "\n",
       "    .dataframe tbody tr th {\n",
       "        vertical-align: top;\n",
       "    }\n",
       "\n",
       "    .dataframe thead th {\n",
       "        text-align: right;\n",
       "    }\n",
       "</style>\n",
       "<table border=\"1\" class=\"dataframe\">\n",
       "  <thead>\n",
       "    <tr style=\"text-align: right;\">\n",
       "      <th></th>\n",
       "      <th>Name</th>\n",
       "      <th>Year</th>\n",
       "      <th>Duration</th>\n",
       "      <th>Genre</th>\n",
       "      <th>Rating</th>\n",
       "      <th>Votes</th>\n",
       "      <th>Director</th>\n",
       "      <th>Actor 1</th>\n",
       "      <th>Actor 2</th>\n",
       "      <th>Actor 3</th>\n",
       "    </tr>\n",
       "  </thead>\n",
       "  <tbody>\n",
       "    <tr>\n",
       "      <th>0</th>\n",
       "      <td>RamSiya</td>\n",
       "      <td>1991</td>\n",
       "      <td>131.0</td>\n",
       "      <td>Drama</td>\n",
       "      <td>6.0</td>\n",
       "      <td>0</td>\n",
       "      <td>J.S. Randhawa</td>\n",
       "      <td>Manmauji</td>\n",
       "      <td>Birbal</td>\n",
       "      <td>Rajendra Bhatia</td>\n",
       "    </tr>\n",
       "    <tr>\n",
       "      <th>1</th>\n",
       "      <td>#Gadhvi (He thought he was Gandhi)</td>\n",
       "      <td>2019</td>\n",
       "      <td>109.0</td>\n",
       "      <td>Drama</td>\n",
       "      <td>7.0</td>\n",
       "      <td>8</td>\n",
       "      <td>Gaurav Bakshi</td>\n",
       "      <td>Rasika Dugal</td>\n",
       "      <td>Vivek Ghamande</td>\n",
       "      <td>Arvind Jangid</td>\n",
       "    </tr>\n",
       "    <tr>\n",
       "      <th>2</th>\n",
       "      <td>#Homecoming</td>\n",
       "      <td>2021</td>\n",
       "      <td>90.0</td>\n",
       "      <td>Drama</td>\n",
       "      <td>6.0</td>\n",
       "      <td>0</td>\n",
       "      <td>Soumyajit Majumdar</td>\n",
       "      <td>Sayani Gupta</td>\n",
       "      <td>Plabita Borthakur</td>\n",
       "      <td>Roy Angana</td>\n",
       "    </tr>\n",
       "    <tr>\n",
       "      <th>3</th>\n",
       "      <td>#Yaaram</td>\n",
       "      <td>2019</td>\n",
       "      <td>110.0</td>\n",
       "      <td>Comedy</td>\n",
       "      <td>4.4</td>\n",
       "      <td>35</td>\n",
       "      <td>Ovais Khan</td>\n",
       "      <td>Prateik</td>\n",
       "      <td>Ishita Raj</td>\n",
       "      <td>Siddhant Kapoor</td>\n",
       "    </tr>\n",
       "    <tr>\n",
       "      <th>4</th>\n",
       "      <td>...And Once Again</td>\n",
       "      <td>2010</td>\n",
       "      <td>105.0</td>\n",
       "      <td>Drama</td>\n",
       "      <td>6.0</td>\n",
       "      <td>0</td>\n",
       "      <td>Amol Palekar</td>\n",
       "      <td>Rajat Kapoor</td>\n",
       "      <td>Rituparna Sengupta</td>\n",
       "      <td>Antara Mali</td>\n",
       "    </tr>\n",
       "  </tbody>\n",
       "</table>\n",
       "</div>"
      ],
      "text/plain": [
       "                                 Name  Year  Duration   Genre  Rating Votes  \\\n",
       "0                             RamSiya  1991     131.0   Drama     6.0     0   \n",
       "1  #Gadhvi (He thought he was Gandhi)  2019     109.0   Drama     7.0     8   \n",
       "2                         #Homecoming  2021      90.0   Drama     6.0     0   \n",
       "3                             #Yaaram  2019     110.0  Comedy     4.4    35   \n",
       "4                   ...And Once Again  2010     105.0   Drama     6.0     0   \n",
       "\n",
       "             Director       Actor 1             Actor 2          Actor 3  \n",
       "0       J.S. Randhawa      Manmauji              Birbal  Rajendra Bhatia  \n",
       "1       Gaurav Bakshi  Rasika Dugal      Vivek Ghamande    Arvind Jangid  \n",
       "2  Soumyajit Majumdar  Sayani Gupta   Plabita Borthakur       Roy Angana  \n",
       "3          Ovais Khan       Prateik          Ishita Raj  Siddhant Kapoor  \n",
       "4        Amol Palekar  Rajat Kapoor  Rituparna Sengupta      Antara Mali  "
      ]
     },
     "execution_count": 371,
     "metadata": {},
     "output_type": "execute_result"
    }
   ],
   "source": [
    "df.head()\n"
   ]
  },
  {
   "cell_type": "code",
   "execution_count": 372,
   "id": "49ba340b-312e-4e86-8e68-a5b0f3c11692",
   "metadata": {},
   "outputs": [],
   "source": [
    "avg_rating = df.groupby('Genre')['Rating'].mean().round(1)"
   ]
  },
  {
   "cell_type": "code",
   "execution_count": 373,
   "id": "037f500b-8fe8-4f72-bcc0-bef89b98902f",
   "metadata": {},
   "outputs": [
    {
     "name": "stdout",
     "output_type": "stream",
     "text": [
      "Average Rating per Genre:\n",
      " | Genre       |   Rating |\n",
      "|:------------|---------:|\n",
      "| Action      |      5.6 |\n",
      "| Adventure   |      6   |\n",
      "| Animation   |      6   |\n",
      "| Biography   |      6.4 |\n",
      "| Comedy      |      5.9 |\n",
      "| Crime       |      6   |\n",
      "| Documentary |      6.6 |\n",
      "| Drama       |      6.1 |\n",
      "| Family      |      6.1 |\n",
      "| Fantasy     |      6.1 |\n",
      "| History     |      6.3 |\n",
      "| Horror      |      5.4 |\n",
      "| Music       |      6.1 |\n",
      "| Musical     |      6   |\n",
      "| Mystery     |      5.9 |\n",
      "| Reality-TV  |      6   |\n",
      "| Romance     |      5.8 |\n",
      "| Sci-Fi      |      6.3 |\n",
      "| Sport       |      6   |\n",
      "| Thriller    |      5.9 |\n",
      "| War         |      5.4 |\n"
     ]
    }
   ],
   "source": [
    "print(\"Average Rating per Genre:\\n\", avg_rating.to_markdown())"
   ]
  },
  {
   "cell_type": "code",
   "execution_count": 374,
   "id": "4b534552-03c5-423c-8d59-978a788eb6e8",
   "metadata": {},
   "outputs": [],
   "source": [
    "director_counts = df['Director'].value_counts()"
   ]
  },
  {
   "cell_type": "code",
   "execution_count": 375,
   "id": "42140f7e-5aaf-4911-bfcb-ad4d678433c0",
   "metadata": {},
   "outputs": [
    {
     "name": "stdout",
     "output_type": "stream",
     "text": [
      "\n",
      "Director with Most Movies: K.Usha \n"
     ]
    }
   ],
   "source": [
    "print(\"\\nDirector with Most Movies:\", director_counts.idxmax())"
   ]
  },
  {
   "cell_type": "code",
   "execution_count": 376,
   "id": "b928b3a7-2072-4332-8004-25bb0528d68d",
   "metadata": {},
   "outputs": [
    {
     "name": "stdout",
     "output_type": "stream",
     "text": [
      "\n",
      "Most Common Duration: 131.0 minutes\n"
     ]
    }
   ],
   "source": [
    "print(\"\\nMost Common Duration:\", df['Duration'].mode()[0], \"minutes\")"
   ]
  },
  {
   "cell_type": "code",
   "execution_count": 377,
   "id": "ee3f665a-b407-4718-94b3-39daf8c4ac54",
   "metadata": {},
   "outputs": [],
   "source": [
    "sns.set_style(\"whitegrid\")"
   ]
  },
  {
   "cell_type": "markdown",
   "id": "693d3489-e9a9-4c9e-967b-e2938419ba25",
   "metadata": {},
   "source": [
    "# what is the most frequent genre?"
   ]
  },
  {
   "cell_type": "code",
   "execution_count": 379,
   "id": "200febff-4fc6-4fa1-85d4-83c6c4f289b3",
   "metadata": {},
   "outputs": [
    {
     "data": {
      "text/html": [
       "<div>\n",
       "<style scoped>\n",
       "    .dataframe tbody tr th:only-of-type {\n",
       "        vertical-align: middle;\n",
       "    }\n",
       "\n",
       "    .dataframe tbody tr th {\n",
       "        vertical-align: top;\n",
       "    }\n",
       "\n",
       "    .dataframe thead th {\n",
       "        text-align: right;\n",
       "    }\n",
       "</style>\n",
       "<table border=\"1\" class=\"dataframe\">\n",
       "  <thead>\n",
       "    <tr style=\"text-align: right;\">\n",
       "      <th></th>\n",
       "    </tr>\n",
       "  </thead>\n",
       "  <tbody>\n",
       "  </tbody>\n",
       "</table>\n",
       "</div>"
      ],
      "text/plain": [
       "Empty DataFrame\n",
       "Columns: []\n",
       "Index: []"
      ]
     },
     "execution_count": 379,
     "metadata": {},
     "output_type": "execute_result"
    }
   ],
   "source": [
    "pd.DataFrame() "
   ]
  },
  {
   "cell_type": "code",
   "execution_count": 380,
   "id": "86c25a0c-9245-493f-bb9f-f48ff44de68c",
   "metadata": {},
   "outputs": [
    {
     "name": "stdout",
     "output_type": "stream",
     "text": [
      "count     13632\n",
      "unique       21\n",
      "top       Drama\n",
      "freq       4517\n",
      "Name: Genre, dtype: object\n"
     ]
    }
   ],
   "source": [
    "print(df['Genre'].describe())"
   ]
  },
  {
   "cell_type": "code",
   "execution_count": 381,
   "id": "e285aae3-c0ab-4fa4-8fbe-f59b942dc663",
   "metadata": {},
   "outputs": [
    {
     "data": {
      "text/plain": [
       "<Axes: ylabel='count'>"
      ]
     },
     "execution_count": 381,
     "metadata": {},
     "output_type": "execute_result"
    },
    {
     "data": {
      "image/png": "[encoded data removed]",
      "text/plain": [
       "<Figure size 640x480 with 1 Axes>"
      ]
     },
     "metadata": {},
     "output_type": "display_data"
    }
   ],
   "source": [
    "df['Genre'].value_counts().plot(kind='pie', autopct='%1.1f%%')"
   ]
  },
  {
   "cell_type": "markdown",
   "id": "cef2ec42-6d1b-4493-8d37-3dba21e69109",
   "metadata": {},
   "source": [
    "# who has the highest votes?"
   ]
  },
  {
   "cell_type": "code",
   "execution_count": null,
   "id": "f908d07a-cd9a-4203-b072-8141edaa54fe",
   "metadata": {},
   "outputs": [],
   "source": []
  },
  {
   "cell_type": "code",
   "execution_count": 383,
   "id": "b2558505-60ed-45ba-84af-7799220716c9",
   "metadata": {},
   "outputs": [],
   "source": [
    "movies = [\"#Gadhvi\", \"#Yaaram\"]\n",
    "votes = [8, 35]"
   ]
  },
  {
   "cell_type": "code",
   "execution_count": 384,
   "id": "ee8b99fa-4f52-49b1-ac32-8f8000383cd1",
   "metadata": {},
   "outputs": [
    {
     "data": {
      "image/png": "[encoded data removed]",
      "text/plain": [
       "<Figure size 800x500 with 1 Axes>"
      ]
     },
     "metadata": {},
     "output_type": "display_data"
    }
   ],
   "source": [
    "plt.figure(figsize=(8, 5))\n",
    "bars = plt.bar(movies, votes, color=['skyblue', 'salmon'])"
   ]
  },
  {
   "cell_type": "markdown",
   "id": "9187d298-869c-4246-a39e-8f8c28c0e2fb",
   "metadata": {},
   "source": [
    "# which year has produced most movies?"
   ]
  },
  {
   "cell_type": "code",
   "execution_count": 386,
   "id": "9d4fd272-5d5b-475c-870d-4b9e9c645b2c",
   "metadata": {},
   "outputs": [
    {
     "name": "stdout",
     "output_type": "stream",
     "text": [
      "Year\n",
      "1913      1\n",
      "1914      1\n",
      "1915      1\n",
      "1917      1\n",
      "1922      1\n",
      "       ... \n",
      "2018    381\n",
      "2019    410\n",
      "2020    320\n",
      "2021    392\n",
      "2022     38\n",
      "Name: count, Length: 102, dtype: int64\n"
     ]
    }
   ],
   "source": [
    "movies_per_year = df['Year'].value_counts().sort_index()\n",
    "print(movies_per_year)"
   ]
  },
  {
   "cell_type": "code",
   "execution_count": 387,
   "id": "721f0d81-7a98-4cb7-87b3-e766cd3779ab",
   "metadata": {},
   "outputs": [],
   "source": [
    "\n",
    "years = [1991, 2010, 2019, 2021]\n",
    "counts = [1, 1, 2, 1]\n"
   ]
  },
  {
   "cell_type": "code",
   "execution_count": 388,
   "id": "134546c0-99c2-47e3-ad3f-2ed5c003e52f",
   "metadata": {},
   "outputs": [
    {
     "data": {
      "image/png": "[encoded data removed]",
      "text/plain": [
       "<Figure size 800x500 with 1 Axes>"
      ]
     },
     "metadata": {},
     "output_type": "display_data"
    }
   ],
   "source": [
    "plt.figure(figsize=(8, 5))\n",
    "bars = plt.bar(years, counts, color='teal')"
   ]
  },
  {
   "cell_type": "code",
   "execution_count": null,
   "id": "db8ba826-8e00-4662-914a-cb18a3a34c60",
   "metadata": {},
   "outputs": [],
   "source": []
  },
  {
   "cell_type": "code",
   "execution_count": null,
   "id": "3f7a5d82-5a40-4462-8a5e-ee2163fef917",
   "metadata": {},
   "outputs": [],
   "source": []
  },
  {
   "cell_type": "code",
   "execution_count": null,
   "id": "a5d13387-bf73-410b-afa2-b7d174f2dbac",
   "metadata": {},
   "outputs": [],
   "source": []
  }
 ],
 "metadata": {
  "kernelspec": {
   "display_name": "Python [conda env:base] *",
   "language": "python",
   "name": "conda-base-py"
  },
  "language_info": {
   "codemirror_mode": {
    "name": "ipython",
    "version": 3
   },
   "file_extension": ".py",
   "mimetype": "text/x-python",
   "name": "python",
   "nbconvert_exporter": "python",
   "pygments_lexer": "ipython3",
   "version": "3.12.7"
  }
 },
 "nbformat": 4,
 "nbformat_minor": 5
}
